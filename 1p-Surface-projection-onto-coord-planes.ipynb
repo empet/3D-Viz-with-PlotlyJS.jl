{
 "cells": [
  {
   "cell_type": "markdown",
   "metadata": {},
   "source": [
    "## <center>Surface projection onto coordinate planes<br><br> and colormapping to an assymetric diverging colorscheme</center>"
   ]
  },
  {
   "cell_type": "markdown",
   "metadata": {},
   "source": [
    "In this notebook we plot a surface of equation $z=f(x, y), x \\in[a, b], y\\in [c,d]$, as well as its projections onto the coordinate planes $x=a, y=c$, respectively $z= (min_{x\\in[a,b], y\\in [c,d]} \\:f(x,y)) - h$, for some $h>0$. \n",
    "\n",
    "If the function $f$ has the following  properties  on the rectangle $[a,b]\\times [c,d]$: \n",
    "- $min(f) < 0$, $max(f)>0$, and\n",
    "- $max(f) \\neq -min(f)$, \n",
    "\n",
    "then a symmetric diverging colorsheme is not the best one to use for colormapping the surface z-values, because the value 0 is not mapped to the central point of the colorbar. That's why we derive from a (symmetric) diverging colorscheme \n",
    "    an asymmetric one, to ensure that the value 0 is mapped to the color of highest lightness. The aim of this procedure is to  suggest naturally (i.e. by color) that 0 is a boundary value between negative z-values and positive ones.\n",
    "The function `asymmetric_div_scheme()` is defined in `PlotlyColorSchemes.jl`.    "
   ]
  },
  {
   "cell_type": "code",
   "execution_count": null,
   "metadata": {},
   "outputs": [],
   "source": [
    "using PlotlyJS\n",
    "include(\"src/PlotlyColorSchemes.jl\")\n",
    "include(\"src/misc.jl\");"
   ]
  },
  {
   "cell_type": "code",
   "execution_count": null,
   "metadata": {},
   "outputs": [],
   "source": [
    "f(x,y) = exp(-(x-1)^2-y^2)-10*(x^3+y^4-x/5)*exp(-(x^2+y^2))\n",
    "xl = LinRange(-3.5, 3.5, 150)\n",
    "yl = LinRange(-3.5, 3.5, 150)\n",
    "\n",
    "x, y = [xi for yi in yl, xi in xl], [yi for yi in yl, xi in xl];\n",
    "z = f.(x, y);"
   ]
  },
  {
   "cell_type": "markdown",
   "metadata": {},
   "source": [
    "The surface projections will be plotted in the planes of equations\n",
    "`Z=minimum(z)-2`, `X=minimum(xl)`, respectively `Y=minimum(yl)`.\n",
    "While the surface is defined by its equation of the form z=f(x,y), its x, y or z- projections are defined as parameterized surfaces, with complementary coordinates as parameters:\n"
   ]
  },
  {
   "cell_type": "code",
   "execution_count": null,
   "metadata": {},
   "outputs": [],
   "source": [
    "surf = surface(x=xl,\n",
    "               y=yl, \n",
    "               z=z', #see the  REMARK in notebook #1\n",
    "               coloraxis=\"coloraxis\")\n",
    "\n",
    "proj_x = surface(x=minimum(xl)*ones(size(z)),\n",
    "                 y=y,\n",
    "                 z=z,\n",
    "                 coloraxis=\"coloraxis\",\n",
    "                 surfacecolor=z)\n",
    "proj_y = surface(x=x,\n",
    "                 y=minimum(yl)*ones(size(z)),\n",
    "                 z=z,\n",
    "                 coloraxis=\"coloraxis\",\n",
    "                 surfacecolor=z)\n",
    "proj_z = surface(x=x,\n",
    "                 y=y,\n",
    "                 z=(minimum(z)-2)*ones(size(z)),\n",
    "                 coloraxis=\"coloraxis\",    \n",
    "                 surfacecolor=z\n",
    "               )\n",
    "\n",
    "colorscale = asymmetric_div_scheme(z, balance, N=13);\n",
    "\n",
    "layout = Layout(title_text=\"Surface projection onto coordinate planes\" , title_x=0.5,\n",
    "                width=600,\n",
    "                height=500,\n",
    "                font_family=\"Sherif\",\n",
    "                #common color settings for all four traces:\n",
    "                coloraxis=attr(colorscale=colorscale, colorbar_thickness=23, colorbar_len=0.8),\n",
    "                scene=attr(aspectratio=attr(x=1,\n",
    "                                            y=1,\n",
    "                                            z=0.95\n",
    "                                            ),\n",
    "                           #black background definition in misc.jl\n",
    "                           xaxis=black_bg(), yaxis=black_bg(), zaxis=black_bg(), \n",
    "                           camera_eye=attr(x=1.45, y=1.45, z=0.7)\n",
    "                           ))\n",
    "                \n",
    "\n",
    "fig = Plot([surf, proj_x, proj_y, proj_z], layout)"
   ]
  },
  {
   "cell_type": "markdown",
   "metadata": {},
   "source": [
    "![surf-projs](images/surf-and-projs.png)"
   ]
  },
  {
   "cell_type": "markdown",
   "metadata": {},
   "source": [
    "Compare to the same surface, colormapped to the symmetric diverging colorscheme balance. The drawback is that in this case 0 is not colormapped to the color of highest lightness, i.e.\n",
    "it's representative color is not at the boundary between blue colors and  red colors.\n"
   ]
  },
  {
   "cell_type": "markdown",
   "metadata": {},
   "source": [
    "![surf-div](images/surf-projs-div.png)"
   ]
  },
  {
   "cell_type": "code",
   "execution_count": null,
   "metadata": {},
   "outputs": [],
   "source": []
  }
 ],
 "metadata": {
  "@webio": {
   "lastCommId": null,
   "lastKernelId": null
  },
  "kernelspec": {
   "display_name": "Julia 1.6.1",
   "language": "julia",
   "name": "julia-1.6"
  },
  "language_info": {
   "file_extension": ".jl",
   "mimetype": "application/julia",
   "name": "julia",
   "version": "1.6.1"
  }
 },
 "nbformat": 4,
 "nbformat_minor": 1
}
