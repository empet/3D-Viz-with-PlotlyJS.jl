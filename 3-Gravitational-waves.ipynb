{
 "cells": [
  {
   "cell_type": "markdown",
   "metadata": {},
   "source": [
    "## <center>Gravitational waves </center>"
   ]
  },
  {
   "cell_type": "markdown",
   "metadata": {},
   "source": [
    "Waves are defined as a surface of equation  $z=f(x,y)$, while black-holes as two black spheres:"
   ]
  },
  {
   "cell_type": "code",
   "execution_count": null,
   "metadata": {},
   "outputs": [],
   "source": [
    "using PlotlyJS, StaticArrays\n",
    "include(\"src/PlotlyColorSchemes.jl\");"
   ]
  },
  {
   "cell_type": "code",
   "execution_count": null,
   "metadata": {},
   "outputs": [],
   "source": [
    "function  sphere(C::SVector{3}, R)\n",
    "    θ = collect(range(0, stop=2π , length=60))\n",
    "    ϕ = collect(range(-π/2, stop=π/2, length=50))\n",
    "    x = C[1] .+ R*cos.(θ)*cos.(ϕ)'\n",
    "    y = C[2] .+ R*sin.(θ)*cos.(ϕ)'\n",
    "    z = C[3] .+ R*ones(length(θ))*sin.(ϕ)'\n",
    "    return x, y, z\n",
    "end    \n",
    "\n",
    "function black_sphere(x, y, z)\n",
    "   return surface(\n",
    "                x=x,  \n",
    "                y=y, \n",
    "                z=z, \n",
    "                colorscale=[[0.0, \"rgb(10,10,10)\"], [1.0, \"rgb(10,10,10)\"]],\n",
    "                showscale=false)\n",
    "end    \n",
    "\n",
    "f(x,y) = 60 * cos(2 * atan(y/(x+0.00001)) + 0.544331*sqrt(x^2+y^2)) / (20+sqrt(x^2+y^2));"
   ]
  },
  {
   "cell_type": "code",
   "execution_count": null,
   "metadata": {},
   "outputs": [],
   "source": [
    "x = y  = range(-45, stop=45, length=200)\n",
    "z = [f.(u, v) for v in y, u in x];\n",
    "waves = surface(\n",
    "            z=z, \n",
    "            x=x,  \n",
    "            y=y,  \n",
    "            colorscale=pl_viridis,\n",
    "            showscale=false);\n",
    "\n",
    "C₁ = SVector{3}([2, -2, 1.0])\n",
    "x, y, z = sphere(C₁, 2.6)\n",
    "black1 = black_sphere(x,y,z)\n",
    "\n",
    "C₂ =SVector{3}([-2, 2, 1.0])\n",
    "x, y, z = sphere(C₂, 2.6)\n",
    "black2 = black_sphere(x,y,z)\n",
    "    \n",
    "layout = Layout(width=600, height=600,  \n",
    "                        scene=attr(aspectmode=\"data\",\n",
    "                                   xaxis_visible=false,\n",
    "                                   yaxis_visible=false,\n",
    "                                   zaxis_visible=false,\n",
    "                                   camera_eye=attr(x=2.5, y=2.5, z=1.2)))    \n",
    "pl = plot([waves, black1, black2], layout)    "
   ]
  },
  {
   "cell_type": "markdown",
   "metadata": {},
   "source": [
    "![gravitational-waves](images/gravit-waves.png)"
   ]
  },
  {
   "cell_type": "code",
   "execution_count": null,
   "metadata": {},
   "outputs": [],
   "source": []
  }
 ],
 "metadata": {
  "@webio": {
   "lastCommId": null,
   "lastKernelId": null
  },
  "kernelspec": {
   "display_name": "Julia 1.6.1",
   "language": "julia",
   "name": "julia-1.6"
  },
  "language_info": {
   "file_extension": ".jl",
   "mimetype": "application/julia",
   "name": "julia",
   "version": "1.6.1"
  }
 },
 "nbformat": 4,
 "nbformat_minor": 4
}
