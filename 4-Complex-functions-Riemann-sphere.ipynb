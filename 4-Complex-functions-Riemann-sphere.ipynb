{
 "cells": [
  {
   "cell_type": "markdown",
   "metadata": {},
   "source": [
    "## <center>Representing a complex function on the Riemann sphere</center>"
   ]
  },
  {
   "cell_type": "markdown",
   "metadata": {},
   "source": [
    "To represent a complex function on the Riemann sphere (i.e. on  the unit sphere) proceed as follows:\n",
    "\n",
    " - define a grid on the sphere, and map its points, stereographically, onto the extended complex plane.\n",
    " - compute the polar angle (the argument) of the function values at the projected points;\n",
    " - plot the sphere and color its points according to the argument of the function values. In this way the \"graph\" of the complex function appears as a texture on the sphere.\n",
    "  \n",
    "The colormap for argument must be a cyclic one, due to the periodicity of isochromatic lines starting from function zeros and simple or multiple poles. For a mathematical study of a complex function,  the HSV colormap  encodes much more information on the function properties than any other cyclic colormap (although HSV has a nonlinear  lightness variation, and it's not recommended by dataviz community). \n",
    "    For comparison we are also drawing the same graph  using matplotlib  twilight cyclic colormap, available in `ColorSchemes.jl`."
   ]
  },
  {
   "cell_type": "code",
   "execution_count": null,
   "metadata": {},
   "outputs": [],
   "source": [
    "using PlotlyJS\n",
    "include(\"src/plotlyju.jl\")\n",
    "include(\"src/PlotlyColorSchemes.jl\");"
   ]
  },
  {
   "cell_type": "markdown",
   "metadata": {},
   "source": [
    "Stereographic projection:"
   ]
  },
  {
   "cell_type": "code",
   "execution_count": null,
   "metadata": {},
   "outputs": [],
   "source": [
    "Stereo(x, y, z) = (x + 1im*y)/(1-z) "
   ]
  },
  {
   "cell_type": "markdown",
   "metadata": {},
   "source": [
    "Riemann sphere discretization  and its stereographic projection:"
   ]
  },
  {
   "cell_type": "code",
   "execution_count": null,
   "metadata": {},
   "outputs": [],
   "source": [
    "f = (θ, ϕ)-> cos(θ) * cos(ϕ)\n",
    "g = (θ, ϕ) -> sin(θ) * cos(ϕ)\n",
    "h = (θ, ϕ) -> sin(ϕ)\n",
    "n = 250\n",
    "m= 300 # m>=n; with a lower resolution a band around equator can\n",
    "       # look pixelated and near the poles can appear artifacts\n",
    "θ = LinRange(-π, π, n) # theta=longitudine\n",
    "ϕ = LinRange(-π/2, π/2, m) # phi=latitude\n",
    "Θ, φ = [t for p in ϕ, t in θ], [p  for p in ϕ, t in θ]\n",
    "X, Y, Z = f.(Θ, φ), g.(Θ, φ), h.(Θ, φ); # sphere discretization\n",
    "\n",
    "z = Stereo.(X, Y, Z); #z in the complex plane\n",
    "\n",
    "F(z) = sin(z)/(z^2+3*z-1)\n",
    "w = F.(z)\n",
    "arg = angle.(w)\n",
    "# Define ticklabels (ticktext) for colorbar, and their position (tickvals) to illustrate\n",
    "# how a cyclic colormap encodes the polar angle of a complex number:\n",
    "tickvals=[-π, -2*π/3, -π/3, 0, π/3, 2*π/3, π]\n",
    "ticktext=[\"-π\", \"-2π/3\", \"-π/3\", \"0\", \"π/3\", \"2π/3\", \"π\"]\n",
    "\n",
    "trace = surface(x=X, y=Y, z=Z, \n",
    "                surfacecolor=arg, \n",
    "                connectgaps=true,\n",
    "                colorscale=pl_hsv, \n",
    "                colorbar=attr(titleside=\"top\",\n",
    "                              tickvals=tickvals,\n",
    "                              ticktext=ticktext,\n",
    "                              title=\"arg(f(z))\",\n",
    "                              len=0.75),\n",
    "                cmin=-π, cmax=π)\n",
    "pl1 = Plot(trace, Layout(width=600, height=600), style=plotlyju)"
   ]
  },
  {
   "cell_type": "markdown",
   "metadata": {},
   "source": [
    "![Riemann-sphere-hsv](images/Riemann-sph-hsv.png)"
   ]
  },
  {
   "cell_type": "markdown",
   "metadata": {},
   "source": [
    "Plot with the twilight cyclic colormap:"
   ]
  },
  {
   "cell_type": "markdown",
   "metadata": {},
   "source": [
    "![Riemann-twilight](images/Riemann-sph-twi.png)"
   ]
  },
  {
   "cell_type": "code",
   "execution_count": null,
   "metadata": {},
   "outputs": [],
   "source": []
  }
 ],
 "metadata": {
  "@webio": {
   "lastCommId": null,
   "lastKernelId": null
  },
  "kernelspec": {
   "display_name": "Julia 1.6.1",
   "language": "julia",
   "name": "julia-1.6"
  },
  "language_info": {
   "file_extension": ".jl",
   "mimetype": "application/julia",
   "name": "julia",
   "version": "1.6.1"
  }
 },
 "nbformat": 4,
 "nbformat_minor": 4
}
