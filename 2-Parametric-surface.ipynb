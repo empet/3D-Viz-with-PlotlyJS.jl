{
 "cells": [
  {
   "cell_type": "markdown",
   "metadata": {},
   "source": [
    "## <center> Parametric Surface </center>"
   ]
  },
  {
   "cell_type": "code",
   "execution_count": null,
   "metadata": {},
   "outputs": [],
   "source": [
    "using PlotlyJS\n",
    "include(\"src/plotlyju.jl\")\n",
    "include(\"src/PlotlyColorSchemes.jl\");"
   ]
  },
  {
   "cell_type": "code",
   "execution_count": null,
   "metadata": {},
   "outputs": [],
   "source": [
    "# surface parameterization  (u, v)----> (f(u,v), g(u,v), h(u,v)):\n",
    "f = (u, v) -> cos(v)*(6 - (5/4 +sin(3*u))*sin(u-3*v))\n",
    "g = (u, v) -> sin(v)*(6 - (5/4 +sin(3*u))*sin(u-3*v))\n",
    "h = (u, v) -> -cos(u-3*v) * (5/4 +sin(3*u));  \n",
    "\n",
    "u = LinRange(0, 2π, 120)\n",
    "v = LinRange(0, 2π, 150)\n",
    "\n",
    "tr = surface(x=f.(u,v'),\n",
    "             y=g.(u,v'),\n",
    "             z=h.(u,v'), \n",
    "             colorscale=pl_balance,\n",
    "             colorbar_len=0.55,\n",
    "             lighting=attr(ambient=0.5,\n",
    "                           diffuse=1,\n",
    "                           fresnel=4,        \n",
    "                           specular=0.5,\n",
    "                           roughness=0.5),\n",
    "             lightposition=attr(x=100,\n",
    "                                y=100,\n",
    "                                z=1000))                     \n",
    "layout = Layout(title_text=\"Parameterized surface\", template=\"plotly\",\n",
    "              width=600,\n",
    "              height=550, \n",
    "              scene=attr(camera_eye=attr(x=2, y=2, z=0.8)),\n",
    "              scene_aspectmode=\"data\")\n",
    "pl = Plot(tr, layout, style=plotlyju)  \n"
   ]
  },
  {
   "cell_type": "markdown",
   "metadata": {},
   "source": [
    "![param surface](images/parametric_surf.png)"
   ]
  },
  {
   "cell_type": "markdown",
   "metadata": {},
   "source": [
    "**Enneper surface**"
   ]
  },
  {
   "cell_type": "code",
   "execution_count": null,
   "metadata": {},
   "outputs": [],
   "source": [
    "s = t = -2:0.05:2\n",
    "u, v = [si for si in s, ti in t], [ti for si in s, ti in t]\n",
    "x = @. u*(1-u^2/3+v^2/3)\n",
    "y = @. -v*(1 .- v^2/3 + u^2)/3\n",
    "z = @. (u^2-v^2)/3;"
   ]
  },
  {
   "cell_type": "code",
   "execution_count": null,
   "metadata": {},
   "outputs": [],
   "source": [
    "xe, ye, ze = [1.55, 1.55, 0.75]\n",
    "enneper = surface(x=y, y=-x, z=z, #surface rotated pi/2 about zaxis\n",
    "                 colorscale=pl_viridis,\n",
    "                 colorbar_len=0.65,\n",
    "                 lighting_ambient=0.7\n",
    "                )\n",
    "layout=Layout(width=600, height=600, scene_camera_eye=(x=xe, y=ye, z=ze))\n",
    "fig = Plot(enneper, layout, style=plotlyju)"
   ]
  },
  {
   "cell_type": "markdown",
   "metadata": {},
   "source": [
    "![Enneper](images/enneper-surf.png)"
   ]
  },
  {
   "cell_type": "code",
   "execution_count": null,
   "metadata": {},
   "outputs": [],
   "source": []
  }
 ],
 "metadata": {
  "@webio": {
   "lastCommId": null,
   "lastKernelId": null
  },
  "kernelspec": {
   "display_name": "Julia 1.6.1",
   "language": "julia",
   "name": "julia-1.6"
  },
  "language_info": {
   "file_extension": ".jl",
   "mimetype": "application/julia",
   "name": "julia",
   "version": "1.6.1"
  }
 },
 "nbformat": 4,
 "nbformat_minor": 4
}
