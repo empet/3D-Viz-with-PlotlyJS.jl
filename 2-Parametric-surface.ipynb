{
 "cells": [
  {
   "cell_type": "markdown",
   "metadata": {},
   "source": [
    "## <center> Parametric Surface </center>"
   ]
  },
  {
   "cell_type": "code",
   "execution_count": 1,
   "metadata": {},
   "outputs": [
    {
     "data": {
      "text/html": [
       "<script>\n",
       "// Immediately-invoked-function-expression to avoid global variables.\n",
       "(function() {\n",
       "    var warning_div = document.getElementById(\"webio-warning-13417055769896253690\");\n",
       "    var hide = function () {\n",
       "        var script = document.getElementById(\"webio-setup-13353395682083648826\");\n",
       "        var parent = script && script.parentElement;\n",
       "        var grandparent = parent && parent.parentElement;\n",
       "        if (grandparent) {\n",
       "            grandparent.style.display = \"none\";\n",
       "        }\n",
       "        warning_div.style.display = \"none\";\n",
       "    };\n",
       "    if (typeof Jupyter !== \"undefined\") {\n",
       "        console.log(\"WebIO detected Jupyter notebook environment.\");\n",
       "        // Jupyter notebook.\n",
       "        var extensions = (\n",
       "            Jupyter\n",
       "            && Jupyter.notebook.config.data\n",
       "            && Jupyter.notebook.config.data.load_extensions\n",
       "        );\n",
       "        if (extensions && extensions[\"webio-jupyter-notebook\"]) {\n",
       "            // Extension already loaded.\n",
       "            console.log(\"Jupyter WebIO nbextension detected; not loading ad-hoc.\");\n",
       "            hide();\n",
       "            return;\n",
       "        }\n",
       "    } else if (window.location.pathname.includes(\"/lab\")) {\n",
       "        // Guessing JupyterLa\n",
       "        console.log(\"Jupyter Lab detected; make sure the @webio/jupyter-lab-provider labextension is installed.\");\n",
       "        hide();\n",
       "        return;\n",
       "    }\n",
       "})();\n",
       "\n",
       "</script>\n",
       "<p\n",
       "    id=\"webio-warning-13417055769896253690\"\n",
       "    class=\"output_text output_stderr\"\n",
       "    style=\"padding: 1em; font-weight: bold;\"\n",
       ">\n",
       "    Unable to load WebIO. Please make sure WebIO works for your Jupyter client.\n",
       "    For troubleshooting, please see <a href=\"https://juliagizmos.github.io/WebIO.jl/latest/providers/ijulia/\">\n",
       "    the WebIO/IJulia documentation</a>.\n",
       "    <!-- TODO: link to installation docs. -->\n",
       "</p>\n"
      ],
      "text/plain": [
       "HTML{String}(\"<script>\\n// Immediately-invoked-function-expression to avoid global variables.\\n(function() {\\n    var warning_div = document.getElementById(\\\"webio-warning-13417055769896253690\\\");\\n    var hide = function () {\\n        var script = document.getElementById(\\\"webio-setup-13353395682083648826\\\");\\n        var parent = script && script.parentElement;\\n        var grandparent = parent && parent.parentElement;\\n        if (grandparent) {\\n            grandparent.style.display = \\\"none\\\";\\n        }\\n        warning_div.style.display = \\\"none\\\";\\n    };\\n    if (typeof Jupyter !== \\\"undefined\\\") {\\n        console.log(\\\"WebIO detected Jupyter notebook environment.\\\");\\n        // Jupyter notebook.\\n        var extensions = (\\n            Jupyter\\n            && Jupyter.notebook.config.data\\n            && Jupyter.notebook.config.data.load_extensions\\n        );\\n        if (extensions && extensions[\\\"webio-jupyter-notebook\\\"]) {\\n            // Extension already loaded.\\n            console.log(\\\"Jupyter WebIO nbextension detected; not loading ad-hoc.\\\");\\n            hide();\\n            return;\\n        }\\n    } else if (window.location.pathname.includes(\\\"/lab\\\")) {\\n        // Guessing JupyterLa\\n        console.log(\\\"Jupyter Lab detected; make sure the @webio/jupyter-lab-provider labextension is installed.\\\");\\n        hide();\\n        return;\\n    }\\n})();\\n\\n</script>\\n<p\\n    id=\\\"webio-warning-13417055769896253690\\\"\\n    class=\\\"output_text output_stderr\\\"\\n    style=\\\"padding: 1em; font-weight: bold;\\\"\\n>\\n    Unable to load WebIO. Please make sure WebIO works for your Jupyter client.\\n    For troubleshooting, please see <a href=\\\"https://juliagizmos.github.io/WebIO.jl/latest/providers/ijulia/\\\">\\n    the WebIO/IJulia documentation</a>.\\n    <!-- TODO: link to installation docs. -->\\n</p>\\n\")"
      ]
     },
     "metadata": {},
     "output_type": "display_data"
    }
   ],
   "source": [
    "using PlotlyJS\n",
    "include(\"src/plotlyju.jl\")\n",
    "include(\"src/PlotlyColorSchemes.jl\");"
   ]
  },
  {
   "cell_type": "code",
   "execution_count": null,
   "metadata": {},
   "outputs": [],
   "source": [
    "# surface parameterization  (u, v)----> (f(u,v), g(u,v), h(u,v)):\n",
    "f = (u, v) -> cos(v)*(6 - (5/4 +sin(3*u))*sin(u-3*v))\n",
    "g = (u, v) -> sin(v)*(6 - (5/4 +sin(3*u))*sin(u-3*v))\n",
    "h = (u, v) -> -cos(u-3*v) * (5/4 +sin(3*u));  \n",
    "\n",
    "u = range(0, stop=2π, length=150)\n",
    "v = range(0, stop=2π, length=150)\n",
    "\n",
    "tr = surface(x=f.(u,v'),\n",
    "             y=g.(u,v'),\n",
    "             z=h.(u,v'), \n",
    "             colorscale=pl_balance,\n",
    "             colorbar_len=0.55,\n",
    "             lighting=attr(ambient=0.5,\n",
    "                           diffuse=1,\n",
    "                           fresnel=4,        \n",
    "                           specular=0.5,\n",
    "                           roughness=0.5),\n",
    "             lightposition=attr(x=100,\n",
    "                                y=100,\n",
    "                                z=1000))                     \n",
    "layout = Layout(\n",
    "              width=600,\n",
    "              height=550, \n",
    "              scene=attr(camera_eye=attr(x=2, y=2, z=0.8)),\n",
    "              scene_aspectmode=\"data\")\n",
    "pl = plot(tr, layout, style=plotlyju)                        "
   ]
  },
  {
   "cell_type": "markdown",
   "metadata": {},
   "source": [
    "![param surface](images/parametric_surf.png)"
   ]
  },
  {
   "cell_type": "markdown",
   "metadata": {},
   "source": [
    "**Enneper surface**"
   ]
  },
  {
   "cell_type": "code",
   "execution_count": null,
   "metadata": {},
   "outputs": [],
   "source": [
    "s = t = -2:0.05:2\n",
    "u, v = [si for si in s, ti in t], [ti for si in s, ti in t]\n",
    "x = @. u*(1-u^2/3+v^2/3)\n",
    "y = @. -v*(1 .- v^2/3 + u^2)/3\n",
    "z = @. (u^2-v^2)/3;"
   ]
  },
  {
   "cell_type": "code",
   "execution_count": null,
   "metadata": {},
   "outputs": [],
   "source": [
    "xe, ye, ze = [1.55, 1.55, 0.75]\n",
    "enneper = surface(x=y, y=-x, z=z, #surface rotated pi/2 about zaxis\n",
    "                 colorscale=pl_viridis,\n",
    "                 colorbar_len=0.65,\n",
    "                 lighting_ambient=0.7\n",
    "                )\n",
    "layout=Layout(width=600, height=600, scene_camera_eye=(x=xe, y=ye, z=ze))\n",
    "fig = plot(enneper, layout, style=plotlyju)"
   ]
  },
  {
   "cell_type": "markdown",
   "metadata": {},
   "source": [
    "![Enneper](images/enneper-surf.png)"
   ]
  },
  {
   "cell_type": "code",
   "execution_count": null,
   "metadata": {},
   "outputs": [],
   "source": []
  }
 ],
 "metadata": {
  "@webio": {
   "lastCommId": null,
   "lastKernelId": null
  },
  "kernelspec": {
   "display_name": "Julia 1.6.1",
   "language": "julia",
   "name": "julia-1.6"
  },
  "language_info": {
   "file_extension": ".jl",
   "mimetype": "application/julia",
   "name": "julia",
   "version": "1.6.1"
  }
 },
 "nbformat": 4,
 "nbformat_minor": 4
}
