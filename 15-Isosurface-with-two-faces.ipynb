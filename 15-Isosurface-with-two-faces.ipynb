{
 "cells": [
  {
   "cell_type": "markdown",
   "metadata": {},
   "source": [
    "## <center> Isosurface with two faces </center>"
   ]
  },
  {
   "cell_type": "markdown",
   "metadata": {},
   "source": [
    "For details on the Plotly(JS) `isosurface` definition, see the notebook `14-Plotly-isosurface-slices-and-caps.ipynb`."
   ]
  },
  {
   "cell_type": "code",
   "execution_count": null,
   "metadata": {},
   "outputs": [],
   "source": [
    "using PlotlyJS\n",
    "include(\"src/plotlyju.jl\");"
   ]
  },
  {
   "cell_type": "markdown",
   "metadata": {},
   "source": [
    "We define two surfaces, $F(x,y,z)=0$, $F(x,y,z)=0.075$, as the inner, respectively the outer face of the same surface, where the function  F is defined by:"
   ]
  },
  {
   "cell_type": "code",
   "execution_count": null,
   "metadata": {},
   "outputs": [],
   "source": [
    "F(x,y,z) =  cos(x) + cos(y) + cos(z)"
   ]
  },
  {
   "cell_type": "markdown",
   "metadata": {},
   "source": [
    "The isosurface $F(x,y,z)=0$ is the so called [Schwartz minimal surface](https://en.wikipedia.org/wiki/Schwarz_minimal_surface)."
   ]
  },
  {
   "cell_type": "markdown",
   "metadata": {},
   "source": [
    "To get plotted the two surfaces with distinct colors we are setting the following attributes in the `isosurface` definition:\n",
    "\n",
    "\n",
    " - `surface_count`=2\n",
    " -  a `colorscale` consisting in only two entries: one for the inner surface, and the second for the outer surface\n",
    " - `isomin` and `isomax`  are defined as two close values: `isomin`= 0, `isomax`= 0.075    "
   ]
  },
  {
   "cell_type": "code",
   "execution_count": null,
   "metadata": {},
   "outputs": [],
   "source": [
    "xl = yl = zl = LinRange(-2π, 2π, 75)\n",
    "x = vec([xx for zz in zl, yy in yl, xx in xl])\n",
    "y = vec([yy for zz in zl, yy in yl, xx in xl])\n",
    "z = vec([zz for zz in zl, yy in yl, xx in xl])\n",
    "Fvals = F.(x, y, z);"
   ]
  },
  {
   "cell_type": "code",
   "execution_count": null,
   "metadata": {},
   "outputs": [],
   "source": [
    "pl_two_colors = [[0, \"#fbf7da\"],\n",
    "                 [1, \"#992900\"]]\n",
    "isosurf = isosurface(x=x, y=y, z=z, value=Fvals,\n",
    "               surface=attr(show=true, fill=1, count= 2),\n",
    "               colorscale=pl_two_colors,\n",
    "               showscale=false,    \n",
    "               isomin= 0,\n",
    "               isomax= 0.075\n",
    "              ) \n",
    "layout = Layout(width=600, height=600,\n",
    "                scene_camera_eye=attr(x=1.55, y=1.55, z=1))\n",
    "pl = Plot(isosurf, layout, style=plotlyju)"
   ]
  },
  {
   "cell_type": "markdown",
   "metadata": {},
   "source": [
    "![iso-2-faces](images/isosurf-two-faces.png)"
   ]
  },
  {
   "cell_type": "code",
   "execution_count": null,
   "metadata": {},
   "outputs": [],
   "source": []
  }
 ],
 "metadata": {
  "@webio": {
   "lastCommId": null,
   "lastKernelId": null
  },
  "kernelspec": {
   "display_name": "Julia 1.6.1",
   "language": "julia",
   "name": "julia-1.6"
  },
  "language_info": {
   "file_extension": ".jl",
   "mimetype": "application/julia",
   "name": "julia",
   "version": "1.6.1"
  }
 },
 "nbformat": 4,
 "nbformat_minor": 4
}
