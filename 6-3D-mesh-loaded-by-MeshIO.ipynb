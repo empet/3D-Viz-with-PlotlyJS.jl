{
 "cells": [
  {
   "cell_type": "markdown",
   "metadata": {},
   "source": [
    "## <center> 3D mesh read from an off file </center>"
   ]
  },
  {
   "cell_type": "code",
   "execution_count": null,
   "metadata": {},
   "outputs": [],
   "source": [
    "using PlotlyJS\n",
    "using MeshIO\n",
    "using FileIO\n",
    "using GeometryBasics\n",
    "using StaticArrays\n",
    "include(\"src/plotlyju.jl\");"
   ]
  },
  {
   "cell_type": "code",
   "execution_count": null,
   "metadata": {},
   "outputs": [],
   "source": [
    "function get_xyz_ijk(mesh)\n",
    "    # this function extract  from a mesh read by MeshIO.jl, \n",
    "    # the vectors  x, y, z, i, j, k, to be passed to mesh3d:\n",
    "    vertices = coordinates(mesh) \n",
    "    triangles = faces(mesh)\n",
    "    x = [v[1]  for v  in vertices ]\n",
    "    y = [v[2]  for v  in vertices ]\n",
    "    z = [v[3]  for v  in vertices ]\n",
    "    #conversion of tri indices from UInt32 to Int32\n",
    "    int_tri= [Int32.([v.i for v in tri])  for tri in triangles]\n",
    "    I = [t[1]  for t in int_tri]\n",
    "    J = [t[2]  for t in int_tri]\n",
    "    K = [t[3]  for t in int_tri]\n",
    "    return x, y, z, I, J, K   \n",
    "end "
   ]
  },
  {
   "cell_type": "code",
   "execution_count": null,
   "metadata": {},
   "outputs": [],
   "source": [
    "mesh = load(\"data/hand.off\");\n",
    "vertices = coordinates(mesh); \n",
    "triangles = faces(mesh);\n",
    "print(typeof(vertices), typeof(triangles))\n",
    "\n",
    "x, y, z, I, J, K = get_xyz_ijk(mesh);\n",
    "\n",
    "trace = mesh3d(x=x, \n",
    "               y=y, \n",
    "               z=z, \n",
    "               i=I, \n",
    "               j=J, \n",
    "               k=K, \n",
    "               intensity=z, \n",
    "               colorscale=[[0,  \"rgb(253, 167, 97)\"], \n",
    "                           [1,  \"rgb(253, 167, 97)\"]],\n",
    "               showscale=false,\n",
    "               lighting=attr(ambient=0.1,\n",
    "                             diffuse=1,\n",
    "                             fresnel=4,\n",
    "                             specular=0.5,\n",
    "                             roughness=0.05),\n",
    "               lightposition=attr(x=100,\n",
    "                             y=200,\n",
    "                             z=100)\n",
    "              ) \n",
    "layout = Layout(width=600, height=600,\n",
    "                scene_camera_eye=attr(x=1.40, y=1.40))\n",
    "pl = plot(trace, layout, style=plotlyju)"
   ]
  },
  {
   "cell_type": "markdown",
   "metadata": {},
   "source": [
    "![hand-off](images/hand-mesh3d.png)"
   ]
  },
  {
   "cell_type": "code",
   "execution_count": null,
   "metadata": {},
   "outputs": [],
   "source": []
  }
 ],
 "metadata": {
  "@webio": {
   "lastCommId": null,
   "lastKernelId": null
  },
  "kernelspec": {
   "display_name": "Julia 1.6.1",
   "language": "julia",
   "name": "julia-1.6"
  },
  "language_info": {
   "file_extension": ".jl",
   "mimetype": "application/julia",
   "name": "julia",
   "version": "1.6.1"
  }
 },
 "nbformat": 4,
 "nbformat_minor": 4
}
