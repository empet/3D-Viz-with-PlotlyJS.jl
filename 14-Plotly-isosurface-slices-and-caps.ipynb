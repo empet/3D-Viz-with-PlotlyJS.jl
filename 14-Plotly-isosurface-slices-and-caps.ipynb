{
 "cells": [
  {
   "cell_type": "markdown",
   "metadata": {},
   "source": [
    "## <center> Plotly isosurface, slices and caps </center>"
   ]
  },
  {
   "cell_type": "markdown",
   "metadata": {},
   "source": [
    "  Let F be a function defined on a parallelipiped. We illustrate how Plotly chart type, `isosurface`,  defines an isosurface of equation F(x,y,z) = isoval. \n",
    " \n",
    "  The example given below also shows a slice within the sub-volume bounded by the isosurface, and the caps produced by the bounding planes of the initial  volume.\n",
    "    \n",
    "  Plotly `isosurface` has a special definition. It doesn't require an isovalue to get an isosurface, but two values, `isomin= m`, and `isomax = M`. If  we are setting, `surface_show=true`, and `surface_counts=1`, then one generates the isosurface of equation $F(x,y,z)=(m+M)/2$.\n",
    "    \n",
    "  For a given colorscale, the interval [isomin, isomax] is mapped to that colorscale, and as a consequence the isosurface points \n",
    "    are mapped to a unique color, corresponding to the isovalue, $(m+M)/2$, i.e. to the central color on the colorbar. \n",
    "    \n",
    "To make visible the sub-volume bounded by the isosurface we can set a non-dense pattern.\n",
    "    \n",
    "  If `surface_show=true`, and `surface_count=2`, then two isosurfaces are drawn:  F(x,y,z)=isomin, and F(x,y, z)=isomax. For two close values, `isomin`, and `isomax`, we get a surface with two faces (see the notebook: `15-Isosurface-with-two-faces.ipynb`)."
   ]
  },
  {
   "cell_type": "code",
   "execution_count": null,
   "metadata": {},
   "outputs": [],
   "source": [
    "using PlotlyJS, Rotations\n",
    "include(\"src/plotlyju.jl\")\n",
    "include(\"src/PlotlyColorSchemes.jl\");"
   ]
  },
  {
   "cell_type": "code",
   "execution_count": null,
   "metadata": {},
   "outputs": [],
   "source": [
    "F(x,y,z) = x^4 + y^4 + z^4 - (x^2+y^2+z^2)^2 + 3*(x^2+y^2+z^2) - 4.35 \n",
    "\n",
    "# Define a 3D grid, and flatten each coordinate variable, because\n",
    "# isosurface accepts only vectors for x, y, z, and  value:\n",
    "\n",
    "xl = yl = zl = LinRange(-2, 2, 50)\n",
    "x = vec([xx for zz in zl, yy in yl, xx in xl])\n",
    "y = vec([yy for zz in zl, yy in yl, xx in xl])\n",
    "z = vec([zz for zz in zl, yy in yl, xx in xl])\n",
    "Fvals = F.(x, y, z);\n",
    "\n",
    "isosurf = isosurface(\n",
    "               x=x,\n",
    "               y=y,\n",
    "               z=z,\n",
    "               value=Fvals,\n",
    "               surface=attr(show=true, fill= 0.65, pattern= \"all\", count=1), \n",
    "               colorscale=pl_BrBG,\n",
    "               colorbar_len=0.75, \n",
    "    \n",
    "               slices=attr(z= attr(show=true, \n",
    "                                   fill=1, #no patterns\n",
    "                                   locations=[-0.8])), #slice cut by plane z=-0.8\n",
    "               caps=attr(x= attr(show=true), \n",
    "                         y= attr(show=true),\n",
    "                         z= attr(show=true)),\n",
    "               isomin= -2,  \n",
    "               isomax= 2,\n",
    "               ) \n",
    "\n",
    "black_bg = Dict( #black background\n",
    "        :showbackground=>true, \n",
    "        :backgroundcolor=>\"rgb(20, 20, 20)\", \n",
    "        :gridcolor=>\"rgb(150, 150, 150)\",   \n",
    "        :zeroline=>false)\n",
    "\n",
    "layout = Layout(width=600, height=600,\n",
    "                scene=attr(camera_eye=attr(x=1.55, y=1.55, z=0.98),\n",
    "                           xaxis=black_bg, yaxis=black_bg, zaxis=black_bg))\n",
    "\n",
    "pl = Plot(isosurf, layout, style=plotlyju)"
   ]
  },
  {
   "cell_type": "markdown",
   "metadata": {},
   "source": [
    "![iso-sl-caps-black](images/iso-slice-blackbg.png)"
   ]
  },
  {
   "cell_type": "markdown",
   "metadata": {},
   "source": [
    "The same  isosurface, but with pl_curl,  as colorscale, default style background, and particular settings for lighting+lightposition, given in the last cell:"
   ]
  },
  {
   "cell_type": "markdown",
   "metadata": {},
   "source": [
    "![iso-slice-caps](images/iso-slice-caps.png)"
   ]
  },
  {
   "cell_type": "code",
   "execution_count": null,
   "metadata": {},
   "outputs": [],
   "source": [
    "lighting=attr(ambient=0.5,\n",
    "              diffuse=0.5,\n",
    "              fresnel=0.25,        \n",
    "              specular=0.25,\n",
    "              roughness=0.25,\n",
    "              facenormalsepsilon=0,\n",
    "              vertexnormalsepsilon=0)\n",
    "lightposition=attr(x=100,\n",
    "                   y=100,\n",
    "                   z=1000) "
   ]
  },
  {
   "cell_type": "code",
   "execution_count": null,
   "metadata": {},
   "outputs": [],
   "source": []
  }
 ],
 "metadata": {
  "@webio": {
   "lastCommId": null,
   "lastKernelId": null
  },
  "kernelspec": {
   "display_name": "Julia 1.6.1",
   "language": "julia",
   "name": "julia-1.6"
  },
  "language_info": {
   "file_extension": ".jl",
   "mimetype": "application/julia",
   "name": "julia",
   "version": "1.6.1"
  }
 },
 "nbformat": 4,
 "nbformat_minor": 4
}
