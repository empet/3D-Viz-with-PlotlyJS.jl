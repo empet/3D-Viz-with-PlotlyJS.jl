{
 "cells": [
  {
   "cell_type": "markdown",
   "metadata": {},
   "source": [
    "## <center>Trisurfs </center>"
   ]
  },
  {
   "cell_type": "markdown",
   "metadata": {},
   "source": [
    "A trisurf is a triangulated surface. We are treating two cases:\n",
    "1. The surface is the graph of a function of two variables:\n",
    "$$z=f(x,y), \\:\\:(x,y)\\in D$$\n",
    "In this notebook is presented the case where $D$ is a disk, while in the notebook \n",
    "`9-Meshing-a-triangular-surface.ipynb`, $D$ is a triangular region.\n",
    "2. The surface is parameterized by\n",
    " $$s:(u,v)\\in D \\mapsto (x(u,v), y(u,v), z(u,v)),$$ with $D$ a compact region in the Euclidean plane.\n",
    " \n",
    "In both cases  we derive the Delaunay triangulation from the points of a meshgrid defined on the the planar set, $D$,  lift the vertices of the triangulation  to the surface, while \n",
    "the simplices (triangles) are inherited from  the 2d triangulation."
   ]
  },
  {
   "cell_type": "code",
   "execution_count": null,
   "metadata": {},
   "outputs": [],
   "source": [
    "using Delaunay\n",
    "using PlotlyJS\n",
    "include(\"src/PlotlyColorSchemes.jl\")\n",
    "include(\"src/plotlyju.jl\")\n",
    "include(\"src/misc.jl\");"
   ]
  },
  {
   "cell_type": "markdown",
   "metadata": {},
   "source": [
    " $\\bf 1.\\:\\:z = 1.25\\,\\mbox{sinc}(x^2+y^2)+sin(y),\\quad (x,y)\\in Disk(O, r=2)$ "
   ]
  },
  {
   "cell_type": "code",
   "execution_count": null,
   "metadata": {},
   "outputs": [],
   "source": [
    "f = (x, y)->1.25*sinc(x^2+y^2)+sin(y)\n",
    "\n",
    "r = collect(0:0.1:2)\n",
    "θ = collect(0:π/30:2π)\n",
    "x = vec(r * cos.(θ)')\n",
    "y = vec(r * sin.(θ)')\n",
    "z = f.(x, y)\n",
    "\n",
    "# Disk triangulation:\n",
    "points = cat(x, y, dims=2)\n",
    "mesh = delaunay(points);\n",
    "#mesh.simplices contain triplets of integers starting from 1; \n",
    "#for plotly mesh3d they must start from 0 \n",
    "triangles = mesh.simplices .- 1 \n",
    "\n",
    "hat = mesh3d(x=x, y=y, z=z, \n",
    "             i=triangles[:, 1], \n",
    "             j=triangles[:, 2], \n",
    "             k=triangles[:, 3],\n",
    "             intensity=z,\n",
    "             colorscale=pl_ehtcmap,\n",
    "             showscale=false,\n",
    "            )\n",
    "layout1 =Layout(width=500, height=500, \n",
    "                scene=attr(xaxis_visible=false, \n",
    "                           yaxis_visible=false, \n",
    "                           zaxis_visible=false,\n",
    "                           camera_eye=attr(x=-1.25, y=1.25, z=1)))\n",
    "pl1 = plot(hat, layout1)"
   ]
  },
  {
   "cell_type": "markdown",
   "metadata": {},
   "source": [
    "![hat](images/hat-trisurf.png)"
   ]
  },
  {
   "cell_type": "markdown",
   "metadata": {},
   "source": [
    "**2. Moebius strip**"
   ]
  },
  {
   "cell_type": "code",
   "execution_count": null,
   "metadata": {},
   "outputs": [],
   "source": [
    "#parameter ranges:\n",
    "ru = range(0, stop=2π, length=36)\n",
    "rv = range(-1, stop=1, length=8)\n",
    "u, v = vec([ui for  ui in ru, vi in rv]), vec([vi for ui in ru, vi in rv]);\n",
    "#Moebius strip parameterization:\n",
    "tp = @. 1.0 + 0.5*v*cos(u/2)\n",
    "x = @. tp * cos(u)\n",
    "y = @. tp * sin(u)\n",
    "z = @. 0.5*v*sin(u/2);\n",
    "\n",
    "#triangulate  the domain of parameters u, v:\n",
    "points2d = cat(u, v, dims=2)\n",
    "mesh = delaunay(points2d);\n",
    "triangles = mesh.simplices .- 1 ; #makes triangle values starting from 0\n",
    "#surf vertices  have the coordinates x, y, z \n",
    "surf_vertices = cat(x, y, z, dims=2);\n",
    "\n",
    "moebius = mesh3d(x=x, y=y, z=z, \n",
    "               i=triangles[:, 1],\n",
    "               j=triangles[:, 2], \n",
    "               k=triangles[:, 3],\n",
    "               intensity=z,\n",
    "               colorscale=pl_curl,\n",
    "               colorbar_len=0.55, colorbar_thickness=20\n",
    "               )\n",
    "layout2 = Layout(width=600, height=600, \n",
    "                 scene_camera_eye=attr(x=1.75, y=-1.75, z=1))\n",
    "pl2 = plot([moebius, tri_edges(surf_vertices, triangles, linecolor=\"rgb(50, 50, 50)\")], \n",
    "           layout2, \n",
    "           style=plotlyju)"
   ]
  },
  {
   "cell_type": "markdown",
   "metadata": {},
   "source": [
    "![mobi](images/moebius600.png)"
   ]
  },
  {
   "cell_type": "code",
   "execution_count": null,
   "metadata": {},
   "outputs": [],
   "source": []
  }
 ],
 "metadata": {
  "@webio": {
   "lastCommId": null,
   "lastKernelId": null
  },
  "kernelspec": {
   "display_name": "Julia 1.6.1",
   "language": "julia",
   "name": "julia-1.6"
  },
  "language_info": {
   "file_extension": ".jl",
   "mimetype": "application/julia",
   "name": "julia",
   "version": "1.6.1"
  }
 },
 "nbformat": 4,
 "nbformat_minor": 4
}
