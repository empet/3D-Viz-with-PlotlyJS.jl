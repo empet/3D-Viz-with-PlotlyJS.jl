{
 "cells": [
  {
   "cell_type": "markdown",
   "metadata": {},
   "source": [
    "## <center> 3D Mesh loaded by PlyIO and plotted with triangle edges </center>"
   ]
  },
  {
   "cell_type": "code",
   "execution_count": null,
   "metadata": {},
   "outputs": [],
   "source": [
    "using PlyIO\n",
    "using PlotlyJS\n",
    "using Rotations, StaticArrays\n",
    "include(\"src/misc.jl\");"
   ]
  },
  {
   "cell_type": "code",
   "execution_count": null,
   "metadata": {},
   "outputs": [],
   "source": [
    "ply = load_ply(\"data/beethoven.ply\")\n",
    "x = ply[\"vertex\"][\"x\"]\n",
    "y = ply[\"vertex\"][\"y\"]\n",
    "z = ply[\"vertex\"][\"z\"]\n",
    "triangles = ply[\"face\"][\"vertex_indices\"];"
   ]
  },
  {
   "cell_type": "code",
   "execution_count": null,
   "metadata": {},
   "outputs": [],
   "source": [
    "#apply RotZ(angle2) * RotX(angle1) to each vertex of the triangulation, \n",
    "# to get Beethoven's vertical position \n",
    "\n",
    "myRot = RotZ(4*pi/9+pi/4)*RotX(pi/4)  \n",
    "verts_matr = hcat(x, y, z)'\n",
    "verts_matr = (myRot* verts_matr)' \n",
    "typeof(triangles)"
   ]
  },
  {
   "cell_type": "markdown",
   "metadata": {},
   "source": [
    "ListProperty definition:\n",
    "```\n",
    "mutable struct ListProperty{S,T} <: AbstractVector{Vector{T}}\n",
    "    name::String\n",
    "    start_inds::Vector{Int}\n",
    "    data::Vector{T}\n",
    "end\n",
    "```"
   ]
  },
  {
   "cell_type": "code",
   "execution_count": null,
   "metadata": {},
   "outputs": [],
   "source": [
    "tri_matr = reshape(triangles.data, (3, length(triangles)))';\n",
    "\n",
    "pl_mesh = PlotlyJS.mesh3d(x=verts_matr[:, 1],\n",
    "                 y= verts_matr[ :, 2],\n",
    "                 z=verts_matr[:, 3],\n",
    "                 colorscale=[[0.0, \"rgb(153, 153, 153)\"], [1.0, \"rgb(255,255,255)\"]], \n",
    "                 intensity= verts_matr[:, 3],\n",
    "                 flatshading=true,\n",
    "                 i=tri_matr[:, 1],\n",
    "                 j=tri_matr[:, 2],\n",
    "                 k= tri_matr[:, 3],\n",
    "                 name=\"Beethoven\",\n",
    "                 showscale=false);\n",
    "\n",
    "pl_mesh[\"cmin\"] = -7 # trick to ensure that B's face is not too dark\n",
    "pl_mesh[\"lighting\"] = attr(ambient=0.18,\n",
    "                           diffuse=1,\n",
    "                           fresnel=0.1,\n",
    "                           specular=1,\n",
    "                           roughness=0.05,\n",
    "                           facenormalsepsilon=1e-15,\n",
    "                           vertexnormalsepsilon=1e-15)\n",
    "pl_mesh[\"lightposition\"] = attr(x=100,\n",
    "                                y=200,\n",
    "                                z=0);                      \n",
    "\n",
    "layout = Layout(\n",
    "             title=\"Beethoven<br>Mesh3d with flatshading\",\n",
    "             font=attr(size=16, color=\"white\"),\n",
    "             width=600,\n",
    "             height=600,\n",
    "             scene_xaxis_visible=false,\n",
    "             scene_yaxis_visible=false,\n",
    "             scene_zaxis_visible=false,\n",
    "             scene_camera_eye=attr(x=1.25, y=1.25, z=0.75),\n",
    "             paper_bgcolor=\"rgb(50,50,50)\")\n",
    "\n",
    "pl = Plot([pl_mesh, tri_edges(verts_matr, tri_matr)], layout)"
   ]
  },
  {
   "cell_type": "markdown",
   "metadata": {},
   "source": [
    "![Beethoven](images/Beethoven-ply.png)"
   ]
  },
  {
   "cell_type": "code",
   "execution_count": null,
   "metadata": {},
   "outputs": [],
   "source": []
  }
 ],
 "metadata": {
  "@webio": {
   "lastCommId": null,
   "lastKernelId": null
  },
  "kernelspec": {
   "display_name": "Julia 1.6.1",
   "language": "julia",
   "name": "julia-1.6"
  },
  "language_info": {
   "file_extension": ".jl",
   "mimetype": "application/julia",
   "name": "julia",
   "version": "1.6.1"
  }
 },
 "nbformat": 4,
 "nbformat_minor": 4
}
