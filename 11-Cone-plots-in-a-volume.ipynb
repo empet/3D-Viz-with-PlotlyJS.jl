{
 "cells": [
  {
   "cell_type": "markdown",
   "metadata": {},
   "source": [
    "## Cone plot of the ABC-vector field defined on a 3D grid"
   ]
  },
  {
   "cell_type": "markdown",
   "metadata": {},
   "source": [
    "The ABC-flow is defined by the 3d-vector field: \n",
    "\n",
    "$$V(x,y,z)=(A sin(z) + C cos(y), B sin(x) + A cos(z), C sin(y) + B cos(x)),$$\n",
    "\n",
    "where $A, B, C$ are real parameters.\n",
    "\n",
    "The vector field $V$ represents a three-dimensional incompressible velocity field, which is    an exact solution of Euler's equation for inviscid Newtonian fluids with periodic boundary conditions. It is   a Beltrami vector field, i.e. it coincides with its vorticity, $\\omega=\\nabla \\times V$."
   ]
  },
  {
   "cell_type": "markdown",
   "metadata": {},
   "source": [
    "We evaluate the ABC vector field at the points of a grid defined on the volume $[0, 2\\pi]^3$"
   ]
  },
  {
   "cell_type": "code",
   "execution_count": null,
   "metadata": {},
   "outputs": [],
   "source": [
    "using PlotlyJS\n",
    "include(\"src/plotlyju.jl\");\n",
    "include(\"src/PlotlyColorSchemes.jl\");"
   ]
  },
  {
   "cell_type": "code",
   "execution_count": null,
   "metadata": {},
   "outputs": [],
   "source": [
    "function VF(x, y, z; A= 1, B= sqrt(2/3), C=sqrt(1/3))\n",
    "    return A*sin(z) + C*cos(y), B*sin(x) + A*cos(z), C*sin(y) + B*cos(x)\n",
    "end    \n",
    "\n",
    "function cone_trace(x::AbstractVector, y::AbstractVector, z::AbstractVector,\n",
    "                    uvw::AbstractMatrix;  sizeref=2)\n",
    "    return cone(\n",
    "            x=x,\n",
    "            y=y,\n",
    "            z=z,\n",
    "            u=uvw[:, 1],\n",
    "            v=uvw[:, 2],\n",
    "            w=uvw[:, 3],\n",
    "            sizemode=\"scaled\",\n",
    "            sizeref=sizeref,\n",
    "            colorscale=pl_curl, \n",
    "            colorbar_len=0.7, \n",
    "            anchor=\"tail\")\n",
    "end"
   ]
  },
  {
   "cell_type": "code",
   "execution_count": null,
   "metadata": {},
   "outputs": [],
   "source": [
    "xl = yl = zl = 0:π/10:2π\n",
    "x = vec([xi for xi in xl, yi in yl, zi in zl])\n",
    "y = vec([yi for xi in xl, yi in yl, zi in zl])\n",
    "z = vec([zi for xi in xl, yi in yl, zi in zl]);"
   ]
  },
  {
   "cell_type": "markdown",
   "metadata": {},
   "source": [
    "Evaluate the vector field at x, y, z, and convert the Vector of 3-tuples to a matrix of size (length(x), 3)"
   ]
  },
  {
   "cell_type": "code",
   "execution_count": null,
   "metadata": {},
   "outputs": [],
   "source": [
    "vfc = VF.(x, y, z) #typeof(vfc) is Vector{Tuple{Float64, Float64, Float64}}\n",
    "UVW = reshape(reinterpret(Float64, vfc), (3, length(vfc)))';\n",
    "trace = cone_trace(x, y, z, UVW)\n",
    "\n",
    "pl1 = Plot(trace, \n",
    "           Layout(width=600, height=600,\n",
    "                  scene_camera_eye=attr(x=1.55, y=1.55, z=0.6)), \n",
    "           style=plotlyju)"
   ]
  },
  {
   "cell_type": "markdown",
   "metadata": {},
   "source": [
    "![cones-ABC](images/cones-ABC-vol.png)"
   ]
  },
  {
   "cell_type": "markdown",
   "metadata": {},
   "source": [
    "### Cone plot in volume slices"
   ]
  },
  {
   "cell_type": "markdown",
   "metadata": {},
   "source": [
    "To illustrate how  the ABC-vector field changes its direction and magnitude we \n",
    " display the cones in a few slices in the volume $[0, 2\\pi]^3$. \n"
   ]
  },
  {
   "cell_type": "code",
   "execution_count": null,
   "metadata": {},
   "outputs": [],
   "source": [
    "z0 = 6*pi/5\n",
    "X = vec([xi for yi in yl, xi in xl])\n",
    "Y = vec([ yi for yi in yl, xi in xl])\n",
    "Z = z0*ones(size(X))\n",
    "vfs = VF.(X,Y, Z);\n",
    "\n",
    "UVWs = reshape(reinterpret(Float64, vfs), (3, length(vfs)))';\n",
    "slicez = cone_trace(X, Y, Z, UVWs; sizeref=7)\n",
    "\n",
    "pl2 = Plot(slicez, \n",
    "           Layout(width=600, height=600,\n",
    "                  scene_camera_eye=attr(x=1.55, y=1.55, z=0.75),\n",
    "                  scene_zaxis_range=[0, 2π]), \n",
    "                  style=plotlyju)"
   ]
  },
  {
   "cell_type": "markdown",
   "metadata": {},
   "source": [
    "![zslice-ABC](images/zslice-ABC-cone.png)"
   ]
  },
  {
   "cell_type": "markdown",
   "metadata": {},
   "source": [
    "### Slice of equation $x+y=2\\pi$:"
   ]
  },
  {
   "cell_type": "code",
   "execution_count": null,
   "metadata": {},
   "outputs": [],
   "source": [
    "xs = vec([xi for xi in xl, zi in zl])\n",
    "ys = 2π .- xs\n",
    "zs = vec([zi for xi in xl, zi in zl])\n",
    "vf = VF.(xs, ys, zs)\n",
    "uvw = reshape(reinterpret(Float64, vf), (3, length(vf)))';\n",
    "slice_xpy = cone_trace(xs, ys, zs, uvw; sizeref=1.5)\n",
    "pl3 = Plot(slice_xpy, \n",
    "           Layout(width=600, height=600,\n",
    "                  scene_camera_eye=attr(x=1.55, y=1.55, z=0.8)),\n",
    "           style=plotlyju)"
   ]
  },
  {
   "cell_type": "markdown",
   "metadata": {},
   "source": [
    "![slicexpy-ABC](images/slicexpy-ABC-cone.png)"
   ]
  },
  {
   "cell_type": "code",
   "execution_count": null,
   "metadata": {},
   "outputs": [],
   "source": []
  }
 ],
 "metadata": {
  "@webio": {
   "lastCommId": null,
   "lastKernelId": null
  },
  "kernelspec": {
   "display_name": "Julia 1.6.1",
   "language": "julia",
   "name": "julia-1.6"
  },
  "language_info": {
   "file_extension": ".jl",
   "mimetype": "application/julia",
   "name": "julia",
   "version": "1.6.1"
  }
 },
 "nbformat": 4,
 "nbformat_minor": 4
}
