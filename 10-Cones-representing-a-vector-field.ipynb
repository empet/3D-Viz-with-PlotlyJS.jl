{
 "cells": [
  {
   "cell_type": "markdown",
   "metadata": {},
   "source": [
    "##  <center>Cones representing a 3d vector field</center>"
   ]
  },
  {
   "cell_type": "markdown",
   "metadata": {},
   "source": [
    "A cone plot  represents a 3D vector field, $(x,y,z)\\mapsto(u(x,y,z), v(x,y,z), w(x,y,z))$ defined on a subset in the 3D space.\n",
    "The  cone trace is defined by the 1d arrays (vectors)  of x, y, z-coordinates for the vector positions, and the u, v, w-as the coordinates of the vector field. The direction of the vector field at a point is illustrated by a geometric cone, colored according to the vector norm at that point. \n",
    "    "
   ]
  },
  {
   "cell_type": "markdown",
   "metadata": {},
   "source": [
    "### Cones defined by the coordinates read from a dataframe"
   ]
  },
  {
   "cell_type": "code",
   "execution_count": null,
   "metadata": {},
   "outputs": [],
   "source": [
    "using HTTP\n",
    "using CSV\n",
    "using DataFrames\n",
    "using PlotlyJS\n",
    "include(\"src/plotlyju.jl\");\n",
    "include(\"src/PlotlyColorSchemes.jl\");"
   ]
  },
  {
   "cell_type": "code",
   "execution_count": null,
   "metadata": {},
   "outputs": [],
   "source": [
    "url = \"https://raw.githubusercontent.com/plotly/datasets/master/vortex.csv\" \n",
    "df = CSV.File(HTTP.get(url).body)|> DataFrame;"
   ]
  },
  {
   "cell_type": "code",
   "execution_count": null,
   "metadata": {},
   "outputs": [],
   "source": [
    "trace1 =  cone(x=df[!,\"x\"],\n",
    "              y=df[!, \"y\"],\n",
    "              z=df[!, \"z\"],\n",
    "              u=df[!, \"u\"],\n",
    "              v=df[!, \"v\"],\n",
    "              w=df[!, \"w\"],\n",
    "              sizemode=\"absolute\",\n",
    "              sizeref=40,\n",
    "              colorscale=plotly_cs(ice), \n",
    "              colorbar_len=0.7,\n",
    "              anchor=\"tip\"\n",
    "           );\n",
    "\n",
    "layout1 = Layout(\n",
    "               width=650,\n",
    "               height=650,\n",
    "               margin=attr(t=10, r=10, b=10, l=10),\n",
    "               scene_camera_eye=attr(x=1.45, y=1.45, z=0.7),\n",
    "               scene_aspectratio=attr(x=1, y=1, z=0.8)\n",
    ")\n",
    "pl1 = plot(trace1, layout1, style=plotlyju)"
   ]
  },
  {
   "cell_type": "markdown",
   "metadata": {},
   "source": [
    "![vortex](images/vortex.png)"
   ]
  },
  {
   "cell_type": "markdown",
   "metadata": {},
   "source": [
    "### The tangent vector field along the coordinate lines of a parameterized hyperboloid"
   ]
  },
  {
   "cell_type": "markdown",
   "metadata": {},
   "source": [
    "The one-sheet hyperboloid, $\\displaystyle\\frac{x^2}{a^2}-\\frac{y^2}{b^2}+\\frac{z^2}{a^2}-1=0$, is parameterized\n",
    "by: \n",
    "\n",
    "$$\\begin{array}{lll}x(u,v)&=& a u \\sin(v)\\sqrt{1+u^2}\\\\\n",
    "                    y(u,v)&=& b u\\\\\n",
    "                    z(u,v)&=&a u \\cos(v)\\sqrt{1+u^2}\\end{array}$$"
   ]
  },
  {
   "cell_type": "markdown",
   "metadata": {},
   "source": [
    "The tangent vector field along a line of constant v has the components:\n",
    "    \n",
    "$$\\begin{array}{lll}x'_u&=&\\displaystyle\\frac{a u \\sin(v)}{\\sqrt{1+u^2}}\\\\\n",
    "               y'_u&=& b \\\\\n",
    "               z'_u&=&\\displaystyle\\frac{a u \\cos(v)}{\\sqrt{1+u^2}}\\end{array}$$"
   ]
  },
  {
   "cell_type": "markdown",
   "metadata": {},
   "source": [
    "Parameterization functions for the hyperboloid corresponding to a=1, b=2, as well for the tangent vector field:"
   ]
  },
  {
   "cell_type": "code",
   "execution_count": null,
   "metadata": {},
   "outputs": [],
   "source": [
    "f, g, h = (u, v) -> sin(v)*sqrt(1+u^2),  (u, v) -> 2u, (u, v) -> cos(v)*sqrt(1+u^2)\n",
    "tanx, tany, tanz = (u, v) -> sin(v)*u/sqrt(1+u^2), (u, v)->2, (u, v) -> cos(v)* u/sqrt(1+u^2)\n",
    "\n",
    "n = 15\n",
    "ul = -5:5/(n-2):0\n",
    "vl = 0:2π/(n-1):2π\n",
    "#flattened meshgrid\n",
    "u, v = vec([ui for ui in ul, vi in vl]), vec([vi for ui in ul, vi in vl])\n",
    "\n",
    "trace2 = cone(x=f.(u, v), \n",
    "              y=g.(u,v),  \n",
    "              z=h.(u, v), \n",
    "              u=tanx.(u, v), \n",
    "              v=tany.(u, v), \n",
    "              w=tanz.(u ,v),\n",
    "              sizemode=\"absolute\",\n",
    "              sizeref=2.0,\n",
    "              showscale=false,\n",
    "              colorscale= [[0, \"#bd1540\"],\n",
    "                           [1, \"#bd1540\"]], \n",
    "              colorbar_len=0.65, \n",
    "              anchor=\"tail\",\n",
    "              opacity=0.8\n",
    "           )\n",
    "layout2 = Layout(title=\"Cone plot of a tangent vector field\", \n",
    "                 width=700,\n",
    "                 height=550,\n",
    "                 scene_camera_eye=attr(x=1.6, y=1.6, z=0.6));\n",
    "pl2 = plot(trace2, layout2,  style=plotlyju)  "
   ]
  },
  {
   "cell_type": "markdown",
   "metadata": {},
   "source": [
    "![hyp-tan-cones](images/tan-cones.png)"
   ]
  },
  {
   "cell_type": "markdown",
   "metadata": {},
   "source": [
    "### Cones along a trajectory of the Roessler system "
   ]
  },
  {
   "cell_type": "markdown",
   "metadata": {},
   "source": [
    "$$\\begin{array}{lll} \\dot{x}&=&-y-z\\\\\n",
    "                     \\dot{y}&=&x+ay,\\quad\\quad a=0.2,\\: b=0.2,\\: c=5.7\\\\\n",
    "    \\dot{z}&=&b+z(x-c)\\end{array}$$"
   ]
  },
  {
   "cell_type": "code",
   "execution_count": null,
   "metadata": {},
   "outputs": [],
   "source": [
    "using DifferentialEquations\n",
    "using StaticArrays"
   ]
  },
  {
   "cell_type": "code",
   "execution_count": null,
   "metadata": {},
   "outputs": [],
   "source": [
    "function Roessler!(du, u, p, t)   \n",
    "    a, b, c = p\n",
    "    du[1] = -u[2]-u[3]\n",
    "    du[2] = u[1]+a*u[2]\n",
    "    du[3] = b+ u[3]*(u[1]-c)\n",
    "end"
   ]
  },
  {
   "cell_type": "code",
   "execution_count": null,
   "metadata": {},
   "outputs": [],
   "source": [
    "u0 = [0.6, 1, 0 ] #initial condition\n",
    "p = (0.2, 0.2, 5.7)\n",
    "tspan = (0.0,  75)\n",
    "prob = ODEProblem(Roessler!, u0, tspan, p)\n",
    "sol = solve(prob);\n",
    "t = 0:0.035:75; \n",
    "\n",
    "s  = sol.(t)\n",
    "s = Vector{SVector{3, Float64}}(s)\n",
    "smatr = reshape(reinterpret(Float64, s), (3, length(s)))';\n",
    "\n",
    "traj = scatter3d(x=smatr[:, 1],\n",
    "                 y=smatr[:, 2],\n",
    "                 z=smatr[:, 3], \n",
    "                 mode=\"lines\",\n",
    "                 line_width=2, \n",
    "                 line_color=\"rgb(102,135,231)\")"
   ]
  },
  {
   "cell_type": "markdown",
   "metadata": {},
   "source": [
    "Place cones at the points of index in I:"
   ]
  },
  {
   "cell_type": "code",
   "execution_count": null,
   "metadata": {},
   "outputs": [],
   "source": [
    "I = collect(1:8:length(s))\n",
    "cpos = smatr[ I, :]  \n",
    "x = cpos[:, 1]\n",
    "y = cpos[:, 2]\n",
    "z = cpos[:, 3]\n",
    "u = @. -y-z\n",
    "v = @. x+0.2*y\n",
    "w = @. 0.2+z*(x-5.7);\n",
    "\n",
    "cone_tr = cone(x=x,\n",
    "             y=y,\n",
    "             z=z,\n",
    "             u=u,\n",
    "             v=v,\n",
    "             w=w,\n",
    "             sizemode=\"absolute\",\n",
    "             sizeref=30,  \n",
    "             colorscale=pl_ice, \n",
    "             colorbar_len=0.7,\n",
    "             anchor=\"center\"\n",
    "             )\n",
    "pl3 = plot([traj, cone_tr], Layout(width=600, height=600,\n",
    "                                   scene_xaxis_visible=false, \n",
    "                                   scene_yaxis_visible=false,\n",
    "                                   scene_zaxis_visible=false,\n",
    "                                   scene_camera_eye=attr(x=-1.5, y=-1.5,  z=0.5),\n",
    "                                   scene_aspectmode=\"data\"), style=plotlyju)\n"
   ]
  },
  {
   "cell_type": "markdown",
   "metadata": {},
   "source": [
    "![Roessler](images/Roessler.png)"
   ]
  },
  {
   "cell_type": "code",
   "execution_count": null,
   "metadata": {},
   "outputs": [],
   "source": []
  }
 ],
 "metadata": {
  "@webio": {
   "lastCommId": null,
   "lastKernelId": null
  },
  "kernelspec": {
   "display_name": "Julia 1.6.1",
   "language": "julia",
   "name": "julia-1.6"
  },
  "language_info": {
   "file_extension": ".jl",
   "mimetype": "application/julia",
   "name": "julia",
   "version": "1.6.1"
  }
 },
 "nbformat": 4,
 "nbformat_minor": 4
}
