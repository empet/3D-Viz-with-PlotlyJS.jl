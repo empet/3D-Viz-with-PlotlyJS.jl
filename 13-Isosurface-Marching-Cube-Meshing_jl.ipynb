{
 "cells": [
  {
   "cell_type": "markdown",
   "metadata": {},
   "source": [
    "## <center> Isosurface extracted by Meshing.jl</center>"
   ]
  },
  {
   "cell_type": "markdown",
   "metadata": {},
   "source": [
    "Given a 3d array representing the values of a scalar field, we illustrate how `Meshing.jl` extracts the brain surface  mesh, as an isosurface, derived via Marching Cube algorithm. The actual implementation of marching cube has the drawback that a vertex is not unique in the vector of mesh vertices, leading to big meshes [https://github.com/JuliaGeometry/Meshing.jl/issues/83](https://github.com/JuliaGeometry/Meshing.jl/issues/83)."
   ]
  },
  {
   "cell_type": "markdown",
   "metadata": {},
   "source": [
    "Our dataset is stored in an npy file that contains the so called MNI152 (MNI - Montreal Neurological Institute) averaged brain template (it is an average brain taken from MRI's of 152 healthy individuals). This file was derived from a NIfTI image. "
   ]
  },
  {
   "cell_type": "code",
   "execution_count": null,
   "metadata": {},
   "outputs": [],
   "source": [
    "using Meshing\n",
    "using StaticArrays\n",
    "using PlotlyJS\n",
    "using NPZ\n",
    "import Rotations.RotY\n",
    "include(\"src/plotlyju.jl\");"
   ]
  },
  {
   "cell_type": "code",
   "execution_count": null,
   "metadata": {},
   "outputs": [],
   "source": [
    "brain_vol = npzread(\"data/MNI152.npy\") \n",
    "verts, triangles =  Meshing.isosurface(brain_vol, MarchingCubes(iso=1.25, reduceverts=true, eps=1e-05));\n",
    "print(length(verts))\n",
    "\n",
    "uni_verts = unique(i -> verts[i], 1:length(verts))\n",
    "print(length(uni_verts))\n",
    "\n",
    "matr_tri = reshape(reinterpret(Int64, triangles), (3, size(triangles,1)))';\n",
    "matr_tri = matr_tri .- 1; #make indices starting from 0\n",
    "matr_verts = reshape(reinterpret(Float64, verts), (3, size(verts,1)));\n",
    "rmatr_verts = (RotY(-pi/9) * matr_verts)'; #data rotation to ilustrate more from the brain, as static image\n",
    "\n",
    "pl_brain=[[0, \"rgb(190,190,190)\"], [1, \"rgb(190,190,190)\"]]\n",
    "tr = mesh3d(x=rmatr_verts[:, 1],\n",
    "            y=rmatr_verts[:, 2],\n",
    "            z=rmatr_verts[:, 3],\n",
    "            i=matr_tri[:, 1],\n",
    "            j=matr_tri[:, 2],\n",
    "            k=matr_tri[:, 3],\n",
    "            intensity=matr_verts[:, 3],\n",
    "            colorscale=pl_brain,\n",
    "            showscale=false,\n",
    "            flatshading=true,\n",
    "            lighting=attr(ambient=0.65,\n",
    "                          diffuse=0.5,\n",
    "                          fresnel=0.25,        \n",
    "                          specular=0.25,\n",
    "                          roughness=0.25,\n",
    "                          facenormalsepsilon=0,\n",
    "                          vertexnormalsepsilon=0),\n",
    "            lightposition=attr(x=100,\n",
    "                               y=100,\n",
    "                               z=10) )\n",
    "\n",
    "layout = Layout( \n",
    "         width=500,\n",
    "         height=500,\n",
    "         paper_bgcolor=\"rgb(10, 10,10)\",\n",
    "         margin=attr(t=2, r=2, b=2, l=2),\n",
    "         scene=attr(xaxis_visible=false,\n",
    "                    yaxis_visible=false, \n",
    "                    zaxis_visible=false, \n",
    "                    aspectmode=\"data\",\n",
    "                    camera_eye=attr(x=1.45, y=1.45, z=0.2)\n",
    "                    ))\n",
    "        \n",
    "\n",
    "pl=plot(tr, layout, style=plotlyju)"
   ]
  },
  {
   "cell_type": "markdown",
   "metadata": {},
   "source": [
    "![iso-brain](images/iso-brain.png)"
   ]
  },
  {
   "cell_type": "markdown",
   "metadata": {},
   "source": [
    "A slice in this brain is defined in the notebook `16-Brain-slice.ipynb`"
   ]
  },
  {
   "cell_type": "code",
   "execution_count": null,
   "metadata": {},
   "outputs": [],
   "source": []
  }
 ],
 "metadata": {
  "@webio": {
   "lastCommId": null,
   "lastKernelId": null
  },
  "kernelspec": {
   "display_name": "Julia 1.6.1",
   "language": "julia",
   "name": "julia-1.6"
  },
  "language_info": {
   "file_extension": ".jl",
   "mimetype": "application/julia",
   "name": "julia",
   "version": "1.6.1"
  }
 },
 "nbformat": 4,
 "nbformat_minor": 4
}
